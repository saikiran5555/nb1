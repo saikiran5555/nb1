{
 "cells": [
  {
   "cell_type": "markdown",
   "id": "bfda74c9",
   "metadata": {},
   "source": [
    "Bayes' theorem, named after the Reverend Thomas Bayes, is a fundamental concept in probability theory. It provides a way to update the probability of a hypothesis based on new evidence or information. The theorem is expressed mathematically as follows:\n",
    "\n",
    "�\n",
    "(\n",
    "�\n",
    "∣\n",
    "�\n",
    ")\n",
    "=\n",
    "�\n",
    "(\n",
    "�\n",
    "∣\n",
    "�\n",
    ")\n",
    "⋅\n",
    "�\n",
    "(\n",
    "�\n",
    ")\n",
    "�\n",
    "(\n",
    "�\n",
    ")\n",
    "P(A∣B)= \n",
    "P(B)\n",
    "P(B∣A)⋅P(A)\n",
    "​\n",
    " \n",
    "\n",
    "Where:\n",
    "\n",
    "�\n",
    "(\n",
    "�\n",
    "∣\n",
    "�\n",
    ")\n",
    "P(A∣B) is the posterior probability of hypothesis A given evidence B.\n",
    "�\n",
    "(\n",
    "�\n",
    "∣\n",
    "�\n",
    ")\n",
    "P(B∣A) is the likelihood of evidence B given hypothesis A.\n",
    "�\n",
    "(\n",
    "�\n",
    ")\n",
    "P(A) is the prior probability of hypothesis A.\n",
    "�\n",
    "(\n",
    "�\n",
    ")\n",
    "P(B) is the probability of evidence B.\n",
    "In simple terms, Bayes' theorem allows us to update our beliefs about the probability of a hypothesis in light of new evidence. It's widely used in various fields, including statistics, machine learning, and artificial intelligence, for tasks such as Bayesian inference, spam filtering, and medical diagnosis."
   ]
  }
 ],
 "metadata": {
  "kernelspec": {
   "display_name": "Python 3 (ipykernel)",
   "language": "python",
   "name": "python3"
  },
  "language_info": {
   "codemirror_mode": {
    "name": "ipython",
    "version": 3
   },
   "file_extension": ".py",
   "mimetype": "text/x-python",
   "name": "python",
   "nbconvert_exporter": "python",
   "pygments_lexer": "ipython3",
   "version": "3.10.9"
  }
 },
 "nbformat": 4,
 "nbformat_minor": 5
}
